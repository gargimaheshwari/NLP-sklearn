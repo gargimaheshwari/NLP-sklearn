{
 "cells": [
  {
   "cell_type": "markdown",
   "metadata": {
    "_cell_guid": "b1076dfc-b9ad-4769-8c92-a6c4dae69d19",
    "_uuid": "8f2839f25d086af736a60e9eeb907d3b93b6e0e5"
   },
   "source": [
    "# 1. Introduction\n",
    "\n",
    "In my last notebook on [Natural Language Processing (NLP)](https://github.com/gargimaheshwari/NLP-topic-modelling/blob/master/sklearn.ipynb) I used <code>sklearn</code>'s GridSearch to find the best LDA model for the number of macine learning topics in the NIPS papers. We saw that using <code>search_params</code> over <code>[20, 25, 30, 35]</code> number of topics and <code>[10, 20, 50 ]</code> maximum iterations, the best model turns out to be the one with 20 topics and 50 iterations, with a perplexity of approximately 2453.\n",
    "\n",
    "Here, I would like to take that analysis further.\n",
    "\n",
    "An important point to note is that perplexity alone might not be the best measure to evaluate topic models because it doesn’t consider the context and semantic associations between words. These can be captured using *topic coherence measure*. I will explore this measure here.\n",
    "\n",
    "First, I'll load the necessary libraries and the data."
   ]
  },
  {
   "cell_type": "code",
   "execution_count": 1,
   "metadata": {
    "_cell_guid": "79c7e3d0-c299-4dcb-8224-4455121ee9b0",
    "_uuid": "d629ff2d2480ee46fbb7e2d37f6b5fab8052498a"
   },
   "outputs": [
    {
     "data": {
      "text/html": [
       "<div>\n",
       "<style scoped>\n",
       "    .dataframe tbody tr th:only-of-type {\n",
       "        vertical-align: middle;\n",
       "    }\n",
       "\n",
       "    .dataframe tbody tr th {\n",
       "        vertical-align: top;\n",
       "    }\n",
       "\n",
       "    .dataframe thead th {\n",
       "        text-align: right;\n",
       "    }\n",
       "</style>\n",
       "<table border=\"1\" class=\"dataframe\">\n",
       "  <thead>\n",
       "    <tr style=\"text-align: right;\">\n",
       "      <th></th>\n",
       "      <th>id</th>\n",
       "      <th>year</th>\n",
       "      <th>title</th>\n",
       "      <th>event_type</th>\n",
       "      <th>pdf_name</th>\n",
       "      <th>abstract</th>\n",
       "      <th>paper_text</th>\n",
       "    </tr>\n",
       "  </thead>\n",
       "  <tbody>\n",
       "    <tr>\n",
       "      <th>0</th>\n",
       "      <td>1</td>\n",
       "      <td>1987</td>\n",
       "      <td>Self-Organization of Associative Database and ...</td>\n",
       "      <td>NaN</td>\n",
       "      <td>1-self-organization-of-associative-database-an...</td>\n",
       "      <td>Abstract Missing</td>\n",
       "      <td>767\\n\\nSELF-ORGANIZATION OF ASSOCIATIVE DATABA...</td>\n",
       "    </tr>\n",
       "    <tr>\n",
       "      <th>1</th>\n",
       "      <td>10</td>\n",
       "      <td>1987</td>\n",
       "      <td>A Mean Field Theory of Layer IV of Visual Cort...</td>\n",
       "      <td>NaN</td>\n",
       "      <td>10-a-mean-field-theory-of-layer-iv-of-visual-c...</td>\n",
       "      <td>Abstract Missing</td>\n",
       "      <td>683\\n\\nA MEAN FIELD THEORY OF LAYER IV OF VISU...</td>\n",
       "    </tr>\n",
       "    <tr>\n",
       "      <th>2</th>\n",
       "      <td>100</td>\n",
       "      <td>1988</td>\n",
       "      <td>Storing Covariance by the Associative Long-Ter...</td>\n",
       "      <td>NaN</td>\n",
       "      <td>100-storing-covariance-by-the-associative-long...</td>\n",
       "      <td>Abstract Missing</td>\n",
       "      <td>394\\n\\nSTORING COVARIANCE BY THE ASSOCIATIVE\\n...</td>\n",
       "    </tr>\n",
       "    <tr>\n",
       "      <th>3</th>\n",
       "      <td>1000</td>\n",
       "      <td>1994</td>\n",
       "      <td>Bayesian Query Construction for Neural Network...</td>\n",
       "      <td>NaN</td>\n",
       "      <td>1000-bayesian-query-construction-for-neural-ne...</td>\n",
       "      <td>Abstract Missing</td>\n",
       "      <td>Bayesian Query Construction for Neural\\nNetwor...</td>\n",
       "    </tr>\n",
       "    <tr>\n",
       "      <th>4</th>\n",
       "      <td>1001</td>\n",
       "      <td>1994</td>\n",
       "      <td>Neural Network Ensembles, Cross Validation, an...</td>\n",
       "      <td>NaN</td>\n",
       "      <td>1001-neural-network-ensembles-cross-validation...</td>\n",
       "      <td>Abstract Missing</td>\n",
       "      <td>Neural Network Ensembles, Cross\\nValidation, a...</td>\n",
       "    </tr>\n",
       "  </tbody>\n",
       "</table>\n",
       "</div>"
      ],
      "text/plain": [
       "     id                        ...                                                                 paper_text\n",
       "0     1                        ...                          767\\n\\nSELF-ORGANIZATION OF ASSOCIATIVE DATABA...\n",
       "1    10                        ...                          683\\n\\nA MEAN FIELD THEORY OF LAYER IV OF VISU...\n",
       "2   100                        ...                          394\\n\\nSTORING COVARIANCE BY THE ASSOCIATIVE\\n...\n",
       "3  1000                        ...                          Bayesian Query Construction for Neural\\nNetwor...\n",
       "4  1001                        ...                          Neural Network Ensembles, Cross\\nValidation, a...\n",
       "\n",
       "[5 rows x 7 columns]"
      ]
     },
     "execution_count": 1,
     "metadata": {},
     "output_type": "execute_result"
    }
   ],
   "source": [
    "import pandas as pd\n",
    "import numpy as np\n",
    "import matplotlib.pyplot as plt\n",
    "%matplotlib inline\n",
    "import re\n",
    "\n",
    "papers = pd.read_csv('../input/papers.csv')\n",
    "papers.head()"
   ]
  },
  {
   "cell_type": "markdown",
   "metadata": {
    "_uuid": "2cd319f15396be27fcc018024767d60240766c2f"
   },
   "source": [
    "As before, I will process the database to remove unnecessary fields, and then process the text using the <code>re</code> library."
   ]
  },
  {
   "cell_type": "code",
   "execution_count": 2,
   "metadata": {
    "_uuid": "4f56962721e5a94874973b46ff16a520bcf4e474"
   },
   "outputs": [],
   "source": [
    "papers = papers.drop([\"id\", \"event_type\", \"pdf_name\"], axis = 1)\n",
    "\n",
    "papers['title_processed'] = papers['title'].map(lambda x: re.sub('[,\\.!?]', '', x))\n",
    "papers['title_processed'] = papers['title_processed'].map(str.lower)"
   ]
  },
  {
   "cell_type": "markdown",
   "metadata": {
    "_uuid": "9fc0348dab259633d992c818b2647b066a2fca4d"
   },
   "source": [
    "# 2. Pre-processing \n",
    "\n",
    "To further process the data and to ready it for LDA to consume, it needs to be tokenized. However, unlike last time, I will not use <code>sklearn</code>'s resources, but instead I will use NLTK and Gensim. This is because our further analysis of topic coherence uses Gensim's resources, and we need to maintain continuity in the API."
   ]
  },
  {
   "cell_type": "code",
   "execution_count": 3,
   "metadata": {
    "_uuid": "53b5287d48c893285843a469a40f8b52ea7318b1"
   },
   "outputs": [],
   "source": [
    "data = [title.split() for title in papers['title_processed']]\n",
    "\n",
    "from nltk.corpus import stopwords\n",
    "stop_words = stopwords.words('english')\n",
    "\n",
    "import gensim\n",
    "import gensim.corpora as corpora\n",
    "from gensim.utils import simple_preprocess\n",
    "\n",
    "def remove_stopwords(texts):\n",
    "    return [[word for word in simple_preprocess(str(doc)) if word not in stop_words] for doc in texts]\n",
    "\n",
    "data = remove_stopwords(data)\n",
    "id2word = corpora.Dictionary(data)\n",
    "corpus = [id2word.doc2bow(text) for text in data]"
   ]
  },
  {
   "cell_type": "markdown",
   "metadata": {
    "_uuid": "8cd02cd87c118f2195ebe15d3d1d292a1eae49fd"
   },
   "source": [
    "# 3. LDA Topic Coherence measure\n",
    "\n",
    "An approach to finding the optimal number of topics is to build many LDA models with different values of number of topics (k) and pick the one that gives the highest coherence value. Choosing a ‘k’ that marks the end of a rapid growth of topic coherence usually offers meaningful and interpretable topics. Picking an even higher value can sometimes provide more granular sub-topics. If you see the same keywords being repeated in multiple topics, it’s probably a sign that the ‘k’ is too large.\n",
    "\n",
    "The function below trains multiple LDA models and provides the models and their corresponding coherence scores."
   ]
  },
  {
   "cell_type": "code",
   "execution_count": 4,
   "metadata": {
    "_uuid": "3db0119dd52097509c8e53ab8e2ad98ee518e4fd"
   },
   "outputs": [],
   "source": [
    "from gensim.models import CoherenceModel\n",
    "\n",
    "def compute_coherence_values(dictionary, data, corpus, limit, start, step):\n",
    "    coherence_values = []\n",
    "    model_list = []\n",
    "    for num_topics in range(start, limit, step):\n",
    "        model = lda_model = gensim.models.ldamodel.LdaModel(corpus = corpus,\n",
    "                                           id2word = dictionary,\n",
    "                                           num_topics = num_topics,\n",
    "                                           random_state = 10)\n",
    "        model_list.append(model)\n",
    "        coherencemodel = CoherenceModel(model = model,\n",
    "                                        texts = data, \n",
    "                                        dictionary = dictionary,\n",
    "                                        coherence = 'c_v')\n",
    "        coherence_values.append(coherencemodel.get_coherence())\n",
    "\n",
    "    return model_list, coherence_values"
   ]
  },
  {
   "cell_type": "markdown",
   "metadata": {
    "_uuid": "51d883f6d7438633725f1ec7f3c7ba212d8d4458"
   },
   "source": [
    "Since the last time around we got the ideal number of topics as 20, I will search between 10 and 30 for the ideal number of topics and run the function above. This can take a while to run as the function trains multiple LDA models, however it is not as slow as the GridSearch before."
   ]
  },
  {
   "cell_type": "code",
   "execution_count": 5,
   "metadata": {
    "_uuid": "bb8f9a3b9712ab3fbfc0b5a2db11256bcc4f2302"
   },
   "outputs": [],
   "source": [
    "start = 10; limit = 30; step = 2\n",
    "\n",
    "model_list, coherence_values = compute_coherence_values(dictionary = id2word, \n",
    "                                                        data = data, corpus = corpus, \n",
    "                                                        start = start, limit = limit,\n",
    "                                                        step = step)"
   ]
  },
  {
   "cell_type": "markdown",
   "metadata": {
    "_uuid": "403f4d90b9e917d7c9544944a76bbfad889419e7"
   },
   "source": [
    "I will now plot the coherence values, and choose the optimal model based on the figure."
   ]
  },
  {
   "cell_type": "code",
   "execution_count": 6,
   "metadata": {
    "_uuid": "fadcd7e465ab01500b98342428a9f1ffbec68b3f"
   },
   "outputs": [
    {
     "data": {
      "image/png": "[encoded data removed]",
      "text/plain": [
       "<Figure size 936x288 with 1 Axes>"
      ]
     },
     "metadata": {},
     "output_type": "display_data"
    }
   ],
   "source": [
    "x = range(start, limit, step)\n",
    "plt.figure(figsize = (13, 4))\n",
    "plt.plot(x, coherence_values, color = 'indigo')\n",
    "plt.xlabel(\"Num Topics\", fontsize = 13)\n",
    "plt.ylabel(\"Coherence score\", fontsize = 13)\n",
    "plt.xticks(x)\n",
    "plt.show()"
   ]
  },
  {
   "cell_type": "code",
   "execution_count": 7,
   "metadata": {
    "_uuid": "629a8f6cef75306bb6ecce4f08a2e824291c46cc"
   },
   "outputs": [
    {
     "name": "stdout",
     "output_type": "stream",
     "text": [
      "Num Topics = 10  has Coherence Value of 0.281\n",
      "Num Topics = 12  has Coherence Value of 0.331\n",
      "Num Topics = 14  has Coherence Value of 0.369\n",
      "Num Topics = 16  has Coherence Value of 0.41\n",
      "Num Topics = 18  has Coherence Value of 0.383\n",
      "Num Topics = 20  has Coherence Value of 0.423\n",
      "Num Topics = 22  has Coherence Value of 0.425\n",
      "Num Topics = 24  has Coherence Value of 0.428\n",
      "Num Topics = 26  has Coherence Value of 0.427\n",
      "Num Topics = 28  has Coherence Value of 0.436\n"
     ]
    }
   ],
   "source": [
    "for m, cv in zip(x, coherence_values):\n",
    "    print(\"Num Topics =\", m, \" has Coherence Value of\", round(cv, 3))"
   ]
  },
  {
   "cell_type": "markdown",
   "metadata": {
    "_uuid": "eaeca695b503f33aa39f02f297e9291c0b61d15a"
   },
   "source": [
    "If the coherence score seems to keep increasing, it makes sense to pick the model that gave the highest CV before flattening out. This is exactly the case here.\n",
    "\n",
    "So for further steps I will choose the model with 20 topics itself and print out the three most dominant words in each topic."
   ]
  },
  {
   "cell_type": "code",
   "execution_count": 8,
   "metadata": {
    "_uuid": "8cbcb202cbe0c3c7a458bbb860aa94613c08aca3"
   },
   "outputs": [
    {
     "name": "stdout",
     "output_type": "stream",
     "text": [
      "1 ['neural', 'network', 'networks']\n",
      "2 ['completion', 'sparsity', 'cross']\n",
      "3 ['descent', 'learning', 'data']\n",
      "4 ['learning', 'power', 'spectral']\n",
      "5 ['models', 'scalable', 'model']\n",
      "6 ['distributed', 'inference', 'spike']\n",
      "7 ['learning', 'supervised', 'sparse']\n",
      "8 ['rank', 'dynamic', 'learning']\n",
      "9 ['learning', 'optimal', 'robust']\n",
      "10 ['learning', 'generative', 'visual']\n",
      "11 ['learning', 'parallel', 'estimation']\n",
      "12 ['structure', 'graph', 'large']\n",
      "13 ['learning', 'variational', 'analysis']\n",
      "14 ['inference', 'time', 'minimization']\n",
      "15 ['bandit', 'embedding', 'graphs']\n",
      "16 ['learning', 'image', 'linear']\n",
      "17 ['optimization', 'learning', 'stochastic']\n",
      "18 ['learning', 'carlo', 'monte']\n",
      "19 ['learning', 'functions', 'stochastic']\n",
      "20 ['networks', 'neural', 'recurrent']\n"
     ]
    }
   ],
   "source": [
    "optimal_model = model_list[5]\n",
    "model_topics = optimal_model.show_topics(20, formatted = False)\n",
    "for i in range(20):\n",
    "    print((model_topics[i][0] + 1), (list(model_topics[i][1][j][0] for j in range(3))))"
   ]
  },
  {
   "cell_type": "markdown",
   "metadata": {
    "_uuid": "5d6005aee2ea4103cafb14d07a32ff1f23fb1fcd"
   },
   "source": [
    "Finally, as a last step, I will use python's <code>sklearn</code> to create an LDA model with 20 topics, and use the LDA visualizer to view the topics-keywords distribution. A good topic model will have non-overlapping, fairly big sized blobs for each topic. This seems to be the case here. So, we are good.\n",
    "\n",
    "The visualization can also be found [here](https://www.kaggleusercontent.com/kf/11723728/eyJhbGciOiJkaXIiLCJlbmMiOiJBMTI4Q0JDLUhTMjU2In0..tBza5OV2QuKjLeuwI7Pu6g.vAFK1cgEFZ2H_8wI43AU8OrslvMsFfUXjuwJbytFBbFMRZbJ2EsoH6c12wA68JekukAJ6O5ZwmRfPekOqwlW6qaBYXuU9aClr7D1Ew_ortSwXXk4UaNxAH5uBAzT_ryUqGxrrhkpb5vKKEDCkqfKgg6CQsYp_aZoTBRJrc3S9Iw.dprXqe26JroP1pwASO43lA/vis.html)."
   ]
  },
  {
   "cell_type": "code",
   "execution_count": 9,
   "metadata": {
    "_uuid": "1ef632f900a5ff8c310ea2de51d9cf2b34af005f"
   },
   "outputs": [],
   "source": [
    "import warnings\n",
    "warnings.simplefilter(\"ignore\", FutureWarning)\n",
    "\n",
    "from sklearn.feature_extraction.text import CountVectorizer\n",
    "count_vectorizer = CountVectorizer(stop_words = 'english')\n",
    "count_data = count_vectorizer.fit_transform(papers['title_processed'])\n",
    "\n",
    "from sklearn.decomposition import LatentDirichletAllocation as LDA\n",
    "lda = LDA(n_components = 20, random_state = 10)\n",
    "model = lda.fit(count_data)\n",
    "\n",
    "import pyLDAvis\n",
    "import pyLDAvis.sklearn\n",
    "pyLDAvis.enable_notebook()\n",
    "vis = pyLDAvis.sklearn.prepare(model, count_data, count_vectorizer, mds='tsne')\n",
    "saved = pyLDAvis.save_html(vis, fileobj = \"vis.html\")"
   ]
  },
  {
   "cell_type": "markdown",
   "metadata": {
    "_uuid": "f9b7993402ba34301672016d00fa901eac335f48"
   },
   "source": [
    "![](https://i.imgur.com/H87fvR3.jpg)"
   ]
  }
 ],
 "metadata": {
  "kernelspec": {
   "display_name": "Python 3",
   "language": "python",
   "name": "python3"
  },
  "language_info": {
   "codemirror_mode": {
    "name": "ipython",
    "version": 3
   },
   "file_extension": ".py",
   "mimetype": "text/x-python",
   "name": "python",
   "nbconvert_exporter": "python",
   "pygments_lexer": "ipython3",
   "version": "3.6.6"
  }
 },
 "nbformat": 4,
 "nbformat_minor": 1
}
