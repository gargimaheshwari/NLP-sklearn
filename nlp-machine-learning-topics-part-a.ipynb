{
 "cells": [
  {
   "cell_type": "markdown",
   "metadata": {
    "_cell_guid": "b1076dfc-b9ad-4769-8c92-a6c4dae69d19",
    "_uuid": "8f2839f25d086af736a60e9eeb907d3b93b6e0e5"
   },
   "source": [
    "# 1. Introduction\n",
    "\n",
    "The NIPS conference (Neural Information Processing Systems) is one of the most prestigious yearly events in the machine learning community. At each NIPS conference, a large number of research papers are published. Over 50,000 PDF files were automatically downloaded and processed to obtain a dataset on various machine learning techniques. These papers discuss a wide variety of topics in machine learning, from neural networks to optimization methods and many more. \n",
    "\n",
    "First, I will explore the CSV file to determine what type of data I can use for the analysis and how it is structured. A research paper typically consists of a title, an abstract and the main text. Other data such as figures and tables were not extracted from the PDF files. Each paper discusses a novel technique or improvement. In this analysis, I will focus on analyzing these papers with natural language processing methods."
   ]
  },
  {
   "cell_type": "code",
   "execution_count": 1,
   "metadata": {
    "_cell_guid": "79c7e3d0-c299-4dcb-8224-4455121ee9b0",
    "_uuid": "d629ff2d2480ee46fbb7e2d37f6b5fab8052498a"
   },
   "outputs": [
    {
     "data": {
      "text/html": [
       "<div>\n",
       "<style scoped>\n",
       "    .dataframe tbody tr th:only-of-type {\n",
       "        vertical-align: middle;\n",
       "    }\n",
       "\n",
       "    .dataframe tbody tr th {\n",
       "        vertical-align: top;\n",
       "    }\n",
       "\n",
       "    .dataframe thead th {\n",
       "        text-align: right;\n",
       "    }\n",
       "</style>\n",
       "<table border=\"1\" class=\"dataframe\">\n",
       "  <thead>\n",
       "    <tr style=\"text-align: right;\">\n",
       "      <th></th>\n",
       "      <th>id</th>\n",
       "      <th>year</th>\n",
       "      <th>title</th>\n",
       "      <th>event_type</th>\n",
       "      <th>pdf_name</th>\n",
       "      <th>abstract</th>\n",
       "      <th>paper_text</th>\n",
       "    </tr>\n",
       "  </thead>\n",
       "  <tbody>\n",
       "    <tr>\n",
       "      <th>0</th>\n",
       "      <td>1</td>\n",
       "      <td>1987</td>\n",
       "      <td>Self-Organization of Associative Database and ...</td>\n",
       "      <td>NaN</td>\n",
       "      <td>1-self-organization-of-associative-database-an...</td>\n",
       "      <td>Abstract Missing</td>\n",
       "      <td>767\\n\\nSELF-ORGANIZATION OF ASSOCIATIVE DATABA...</td>\n",
       "    </tr>\n",
       "    <tr>\n",
       "      <th>1</th>\n",
       "      <td>10</td>\n",
       "      <td>1987</td>\n",
       "      <td>A Mean Field Theory of Layer IV of Visual Cort...</td>\n",
       "      <td>NaN</td>\n",
       "      <td>10-a-mean-field-theory-of-layer-iv-of-visual-c...</td>\n",
       "      <td>Abstract Missing</td>\n",
       "      <td>683\\n\\nA MEAN FIELD THEORY OF LAYER IV OF VISU...</td>\n",
       "    </tr>\n",
       "    <tr>\n",
       "      <th>2</th>\n",
       "      <td>100</td>\n",
       "      <td>1988</td>\n",
       "      <td>Storing Covariance by the Associative Long-Ter...</td>\n",
       "      <td>NaN</td>\n",
       "      <td>100-storing-covariance-by-the-associative-long...</td>\n",
       "      <td>Abstract Missing</td>\n",
       "      <td>394\\n\\nSTORING COVARIANCE BY THE ASSOCIATIVE\\n...</td>\n",
       "    </tr>\n",
       "    <tr>\n",
       "      <th>3</th>\n",
       "      <td>1000</td>\n",
       "      <td>1994</td>\n",
       "      <td>Bayesian Query Construction for Neural Network...</td>\n",
       "      <td>NaN</td>\n",
       "      <td>1000-bayesian-query-construction-for-neural-ne...</td>\n",
       "      <td>Abstract Missing</td>\n",
       "      <td>Bayesian Query Construction for Neural\\nNetwor...</td>\n",
       "    </tr>\n",
       "    <tr>\n",
       "      <th>4</th>\n",
       "      <td>1001</td>\n",
       "      <td>1994</td>\n",
       "      <td>Neural Network Ensembles, Cross Validation, an...</td>\n",
       "      <td>NaN</td>\n",
       "      <td>1001-neural-network-ensembles-cross-validation...</td>\n",
       "      <td>Abstract Missing</td>\n",
       "      <td>Neural Network Ensembles, Cross\\nValidation, a...</td>\n",
       "    </tr>\n",
       "  </tbody>\n",
       "</table>\n",
       "</div>"
      ],
      "text/plain": [
       "     id                        ...                                                                 paper_text\n",
       "0     1                        ...                          767\\n\\nSELF-ORGANIZATION OF ASSOCIATIVE DATABA...\n",
       "1    10                        ...                          683\\n\\nA MEAN FIELD THEORY OF LAYER IV OF VISU...\n",
       "2   100                        ...                          394\\n\\nSTORING COVARIANCE BY THE ASSOCIATIVE\\n...\n",
       "3  1000                        ...                          Bayesian Query Construction for Neural\\nNetwor...\n",
       "4  1001                        ...                          Neural Network Ensembles, Cross\\nValidation, a...\n",
       "\n",
       "[5 rows x 7 columns]"
      ]
     },
     "execution_count": 1,
     "metadata": {},
     "output_type": "execute_result"
    }
   ],
   "source": [
    "import pandas as pd\n",
    "import numpy as np\n",
    "import matplotlib.pyplot as plt\n",
    "%matplotlib inline\n",
    "import seaborn as sns\n",
    "import re\n",
    "\n",
    "papers = pd.read_csv('../input/papers.csv')\n",
    "papers.head()"
   ]
  },
  {
   "cell_type": "markdown",
   "metadata": {
    "_uuid": "8664146483cd9d5d0955ee95c8ba7c7b878076a0"
   },
   "source": [
    "For the analysis of the papers, I am only interested in the text data associated with the paper as well as the year the paper was published in.\n",
    "\n",
    "I will analyze this text data using natural language processing. Since the file contains some metadata such as id's and filenames, it is necessary to remove all the columns that do not contain useful text information."
   ]
  },
  {
   "cell_type": "code",
   "execution_count": 2,
   "metadata": {
    "_uuid": "599d5477b8e4477e24d2ea6b53a7087b3719b16a"
   },
   "outputs": [
    {
     "data": {
      "text/html": [
       "<div>\n",
       "<style scoped>\n",
       "    .dataframe tbody tr th:only-of-type {\n",
       "        vertical-align: middle;\n",
       "    }\n",
       "\n",
       "    .dataframe tbody tr th {\n",
       "        vertical-align: top;\n",
       "    }\n",
       "\n",
       "    .dataframe thead th {\n",
       "        text-align: right;\n",
       "    }\n",
       "</style>\n",
       "<table border=\"1\" class=\"dataframe\">\n",
       "  <thead>\n",
       "    <tr style=\"text-align: right;\">\n",
       "      <th></th>\n",
       "      <th>year</th>\n",
       "      <th>title</th>\n",
       "      <th>abstract</th>\n",
       "      <th>paper_text</th>\n",
       "    </tr>\n",
       "  </thead>\n",
       "  <tbody>\n",
       "    <tr>\n",
       "      <th>0</th>\n",
       "      <td>1987</td>\n",
       "      <td>Self-Organization of Associative Database and ...</td>\n",
       "      <td>Abstract Missing</td>\n",
       "      <td>767\\n\\nSELF-ORGANIZATION OF ASSOCIATIVE DATABA...</td>\n",
       "    </tr>\n",
       "    <tr>\n",
       "      <th>1</th>\n",
       "      <td>1987</td>\n",
       "      <td>A Mean Field Theory of Layer IV of Visual Cort...</td>\n",
       "      <td>Abstract Missing</td>\n",
       "      <td>683\\n\\nA MEAN FIELD THEORY OF LAYER IV OF VISU...</td>\n",
       "    </tr>\n",
       "    <tr>\n",
       "      <th>2</th>\n",
       "      <td>1988</td>\n",
       "      <td>Storing Covariance by the Associative Long-Ter...</td>\n",
       "      <td>Abstract Missing</td>\n",
       "      <td>394\\n\\nSTORING COVARIANCE BY THE ASSOCIATIVE\\n...</td>\n",
       "    </tr>\n",
       "    <tr>\n",
       "      <th>3</th>\n",
       "      <td>1994</td>\n",
       "      <td>Bayesian Query Construction for Neural Network...</td>\n",
       "      <td>Abstract Missing</td>\n",
       "      <td>Bayesian Query Construction for Neural\\nNetwor...</td>\n",
       "    </tr>\n",
       "    <tr>\n",
       "      <th>4</th>\n",
       "      <td>1994</td>\n",
       "      <td>Neural Network Ensembles, Cross Validation, an...</td>\n",
       "      <td>Abstract Missing</td>\n",
       "      <td>Neural Network Ensembles, Cross\\nValidation, a...</td>\n",
       "    </tr>\n",
       "  </tbody>\n",
       "</table>\n",
       "</div>"
      ],
      "text/plain": [
       "   year                        ...                                                                 paper_text\n",
       "0  1987                        ...                          767\\n\\nSELF-ORGANIZATION OF ASSOCIATIVE DATABA...\n",
       "1  1987                        ...                          683\\n\\nA MEAN FIELD THEORY OF LAYER IV OF VISU...\n",
       "2  1988                        ...                          394\\n\\nSTORING COVARIANCE BY THE ASSOCIATIVE\\n...\n",
       "3  1994                        ...                          Bayesian Query Construction for Neural\\nNetwor...\n",
       "4  1994                        ...                          Neural Network Ensembles, Cross\\nValidation, a...\n",
       "\n",
       "[5 rows x 4 columns]"
      ]
     },
     "execution_count": 2,
     "metadata": {},
     "output_type": "execute_result"
    }
   ],
   "source": [
    "papers = papers.drop([\"id\", \"event_type\", \"pdf_name\"], axis = 1)\n",
    "papers.head()"
   ]
  },
  {
   "cell_type": "markdown",
   "metadata": {
    "_uuid": "99e210252feb2879be598237774abcb485201383"
   },
   "source": [
    "In order to understand how the machine learning field has recently exploded in popularity, I will begin by visualizing the number of publications per year.\n",
    "\n",
    "By looking at the number of published papers per year, we can understand the extent of the machine learning 'revolution'! Typically, this significant increase in popularity is attributed to the large amounts of compute power, data and improvements in algorithms."
   ]
  },
  {
   "cell_type": "code",
   "execution_count": 3,
   "metadata": {
    "_uuid": "209601716ce5f52185fc7ce14436029b06af7876"
   },
   "outputs": [
    {
     "data": {
      "image/png": "[encoded data removed]",
      "text/plain": [
       "<Figure size 936x576 with 1 Axes>"
      ]
     },
     "metadata": {},
     "output_type": "display_data"
    }
   ],
   "source": [
    "groups = papers.groupby('year')\n",
    "counts = groups.size()\n",
    "\n",
    "plt.figure(figsize = (13, 8))\n",
    "ax = sns.barplot(counts.index, counts.values, palette=(\"magma\"))\n",
    "ax.set_xlabel(\"Year\",fontsize = 15, labelpad = 15)\n",
    "plt.xticks(rotation = 90)\n",
    "plt.show()"
   ]
  },
  {
   "cell_type": "markdown",
   "metadata": {
    "_uuid": "3dda92f6146fc1f850cad6f20595d15ea27866e2"
   },
   "source": [
    "# 2. Pre-processing the data\n",
    "\n",
    "Let's now analyze the titles of the different papers to identify machine learning trends. First, I will perform some simple preprocessing on the titles in order to make them more amenable for analysis. I will use a regular expression to remove any punctuation in the title. Then I will perform lowercasing. I'll then print the titles of the first rows before and after applying the modification."
   ]
  },
  {
   "cell_type": "code",
   "execution_count": 4,
   "metadata": {
    "_uuid": "6af121406b57f84a7b4895bde07c4acdcf7dc93f"
   },
   "outputs": [
    {
     "data": {
      "text/plain": [
       "0    Self-Organization of Associative Database and ...\n",
       "1    A Mean Field Theory of Layer IV of Visual Cort...\n",
       "2    Storing Covariance by the Associative Long-Ter...\n",
       "3    Bayesian Query Construction for Neural Network...\n",
       "4    Neural Network Ensembles, Cross Validation, an...\n",
       "Name: title, dtype: object"
      ]
     },
     "metadata": {},
     "output_type": "display_data"
    },
    {
     "data": {
      "text/plain": [
       "0    self-organization of associative database and ...\n",
       "1    a mean field theory of layer iv of visual cort...\n",
       "2    storing covariance by the associative long-ter...\n",
       "3    bayesian query construction for neural network...\n",
       "4    neural network ensembles cross validation and ...\n",
       "Name: title_processed, dtype: object"
      ]
     },
     "metadata": {},
     "output_type": "display_data"
    }
   ],
   "source": [
    "display(papers['title'].head())\n",
    "\n",
    "papers['title_processed'] = papers['title'].map(lambda x: re.sub('[,\\.!?]', '', x))\n",
    "papers['title_processed'] = papers['title_processed'].map(str.lower)\n",
    "\n",
    "display(papers['title_processed'].head())"
   ]
  },
  {
   "cell_type": "markdown",
   "metadata": {
    "_uuid": "00bb9c3be63f7793697c692a66645340719ad931"
   },
   "source": [
    "The main text analysis method that I will use is latent Dirichlet allocation (LDA). LDA is able to perform topic detection on large document sets, determining what the main 'topics' are in a large unlabeled set of texts. A 'topic' is a collection of words that tend to co-occur often. The hypothesis is that LDA might be able to clarify what the different topics in the research titles are. These topics can then be used as a starting point for further analysis.\n",
    "\n",
    "LDA does not work directly on text data. First, it is necessary to convert the documents into a simple vector representation. This representation will then be used by LDA to determine the topics. Each entry of a 'document vector' will correspond with the number of times a word occurred in the document. In conclusion, I will convert a list of titles into a list of vectors, all with length equal to the vocabulary. For example, *'Analyzing machine learning trends with neural networks.'* would be transformed into <code>[1, 0, 1, ..., 1, 0]</code>.\n",
    "\n",
    "I'll then plot the 10 most common words based on the outcome of this operation (the list of document vectors)."
   ]
  },
  {
   "cell_type": "code",
   "execution_count": 5,
   "metadata": {
    "_uuid": "53bc3f09a5dcd18a7c685cd54edddc26fdcbdf6c"
   },
   "outputs": [
    {
     "data": {
      "image/png": "[encoded data removed]",
      "text/plain": [
       "<Figure size 936x576 with 1 Axes>"
      ]
     },
     "metadata": {},
     "output_type": "display_data"
    }
   ],
   "source": [
    "from sklearn.feature_extraction.text import CountVectorizer\n",
    "\n",
    "def plot_10_most_common_words(count_data, count_vectorizer):\n",
    "    words = count_vectorizer.get_feature_names()\n",
    "    total_counts = np.zeros(len(words))\n",
    "    for t in count_data:\n",
    "        total_counts += t.toarray()[0]\n",
    "    \n",
    "    count_dict = (zip(words, total_counts))\n",
    "    count_dict = sorted(count_dict, key=lambda x:x[1], reverse=True)\n",
    "    words = [w[0] for w in count_dict[0:10]]\n",
    "    counts = [w[1] for w in count_dict[0:10]]\n",
    "    x_pos = np.arange(len(words))\n",
    "\n",
    "    sns.barplot(x_pos, counts, palette=(\"plasma\"))\n",
    "    plt.xticks(x_pos, words, rotation = 90) \n",
    "    plt.xlabel('words', fontsize = 13)\n",
    "    plt.ylabel('counts', fontsize = 13)\n",
    "    plt.title('10 most common words', fontsize = 15)\n",
    "    plt.show()\n",
    "    \n",
    "    return dict(count_dict)\n",
    "\n",
    "count_vectorizer = CountVectorizer(stop_words = 'english')\n",
    "count_data = count_vectorizer.fit_transform(papers['title_processed'])\n",
    "\n",
    "plt.figure(figsize = (13, 8))\n",
    "count_dict = plot_10_most_common_words(count_data, count_vectorizer)"
   ]
  },
  {
   "cell_type": "markdown",
   "metadata": {
    "_uuid": "bf47e2fc17a497a4b6f5d7714f8e0464b3286f56"
   },
   "source": [
    "Since most cells in the matrix <code>count_data</code> will be zero, I am interested in knowing what percentage of cells contain non-zero values. Sparsicity is nothing but the percentage of non-zero datapoints in the document-word matrix."
   ]
  },
  {
   "cell_type": "code",
   "execution_count": 6,
   "metadata": {
    "_uuid": "789fe083f9ce8d126935b24831c1230668b7e202"
   },
   "outputs": [
    {
     "name": "stdout",
     "output_type": "stream",
     "text": [
      "Sparsicity:  0.11346205679154692 %\n"
     ]
    }
   ],
   "source": [
    "data_dense = count_data.todense()\n",
    "print(\"Sparsicity: \", ((data_dense > 0).sum()/data_dense.size)*100, \"%\")"
   ]
  },
  {
   "cell_type": "markdown",
   "metadata": {
    "_uuid": "a391838e100f1ccdc0476012b5c6f6200d3e9723"
   },
   "source": [
    "Finally, I will analyze the research titles using LDA.\n",
    "\n",
    "# 3. Latent Dirichlet Allocation and GridSearch\n",
    "\n",
    "While there are many different analyses one can do using LDA, I will only focus on finding the optimal number of topics from this data.\n",
    "\n",
    "Typically, one calculates the 'perplexity' metric to determine which number of topics is best and iterate over different amounts of topics until the lowest 'perplexity' is found. A model with higher log-likelihood and lower perplexity (exp(-1. * log-likelihood per word)) is considered to be good.\n",
    "\n",
    "To find the best model, I will use GridSearch. The most important tuning parameter for LDA models is n_components (number of topics). The grid search constructs multiple LDA models for all possible combinations of param values in the param_grid dict. So, this process can consume a lot of time and resources."
   ]
  },
  {
   "cell_type": "code",
   "execution_count": 7,
   "metadata": {
    "_uuid": "0e356c85a9912b4a0857a35340c53d96ce5fb02b"
   },
   "outputs": [
    {
     "data": {
      "text/plain": [
       "GridSearchCV(cv=None, error_score='raise-deprecating',\n",
       "       estimator=LatentDirichletAllocation(batch_size=128, doc_topic_prior=None,\n",
       "             evaluate_every=-1, learning_decay=0.7,\n",
       "             learning_method='batch', learning_offset=10.0,\n",
       "             max_doc_update_iter=100, max_iter=10, mean_change_tol=0.001,\n",
       "             n_components=10, n_jobs=None, n_topics=None, perp_tol=0.1,\n",
       "             random_state=None, topic_word_prior=None,\n",
       "             total_samples=1000000.0, verbose=0),\n",
       "       fit_params=None, iid='warn', n_jobs=None,\n",
       "       param_grid={'n_components': [20, 25, 30, 35], 'max_iter': [10, 20, 50]},\n",
       "       pre_dispatch='2*n_jobs', refit=True, return_train_score='warn',\n",
       "       scoring=None, verbose=0)"
      ]
     },
     "execution_count": 7,
     "metadata": {},
     "output_type": "execute_result"
    }
   ],
   "source": [
    "from sklearn.model_selection import GridSearchCV\n",
    "from sklearn.decomposition import LatentDirichletAllocation\n",
    "\n",
    "import warnings\n",
    "warnings.simplefilter(\"ignore\", FutureWarning)\n",
    "\n",
    "search_params = {'n_components': [20, 25, 30, 35], 'max_iter': [10, 20, 50]}\n",
    "lda = LatentDirichletAllocation()\n",
    "model = GridSearchCV(lda, cv = None, param_grid = search_params)\n",
    "model.fit(count_data) #Takes a long time to run"
   ]
  },
  {
   "cell_type": "markdown",
   "metadata": {
    "_uuid": "771347779e2543369656a64d5e965ab0649889c5"
   },
   "source": [
    "Now let us have a look at the parameters of best model that came out of GridSearch."
   ]
  },
  {
   "cell_type": "code",
   "execution_count": 8,
   "metadata": {
    "_kg_hide-input": false,
    "_kg_hide-output": false,
    "_uuid": "7498d8979f8321051bfe5dc159fc535981a71fc5"
   },
   "outputs": [
    {
     "name": "stdout",
     "output_type": "stream",
     "text": [
      "Best Model's Params:  {'max_iter': 50, 'n_components': 20}\n",
      "Best Log Likelihood Score:  -163645.71711602304\n",
      "Model Perplexity:  2507.1818879214834\n"
     ]
    }
   ],
   "source": [
    "best_lda_model = model.best_estimator_\n",
    "\n",
    "print(\"Best Model's Params: \", model.best_params_)\n",
    "print(\"Best Log Likelihood Score: \", model.best_score_)\n",
    "print(\"Model Perplexity: \", best_lda_model.perplexity(count_data))"
   ]
  },
  {
   "cell_type": "markdown",
   "metadata": {
    "_uuid": "3359680f6226cb083de3ff04248b59c0cd2a0f34"
   },
   "source": [
    "As a last step, I will plot the <code>log-likelihood</code> scores against <code>num_topics</code>. It clearly shows number of topics = 20 has better scores. And <code>max_iter</code> of 50 outperforms both 10 and 20."
   ]
  },
  {
   "cell_type": "code",
   "execution_count": 9,
   "metadata": {
    "_uuid": "2492f0cd12fa4b81ea59ac38be7e97673611890c"
   },
   "outputs": [
    {
     "data": {
      "image/png": "[encoded data removed]",
      "text/plain": [
       "<Figure size 936x576 with 1 Axes>"
      ]
     },
     "metadata": {},
     "output_type": "display_data"
    }
   ],
   "source": [
    "n_topics = [20, 25, 30, 35]\n",
    "results = pd.DataFrame(model.cv_results_)\n",
    "logl_10 = (results['mean_test_score'][i] for i in range(len(results)) if results['params'][i]['max_iter'] == 10)\n",
    "logl_20 = (results['mean_test_score'][i] for i in range(len(results)) if results['params'][i]['max_iter'] == 20)\n",
    "logl_50 = (results['mean_test_score'][i] for i in range(len(results)) if results['params'][i]['max_iter'] == 50)\n",
    "\n",
    "plt.figure(figsize=(13, 8))\n",
    "sns.lineplot(n_topics, list(logl_10), label='10')\n",
    "sns.lineplot(n_topics, list(logl_20), label='20')\n",
    "sns.lineplot(n_topics, list(logl_50), label='50')\n",
    "plt.title(\"Choosing Optimal LDA Model\", fontsize = 15)\n",
    "plt.xlabel(\"Num Topics\", fontsize = 13)\n",
    "plt.ylabel(\"Log Likelyhood Scores\", fontsize = 13)\n",
    "plt.legend(title='Maximum Iterations', loc = 'best')\n",
    "plt.show()"
   ]
  },
  {
   "cell_type": "markdown",
   "metadata": {
    "_uuid": "e6b70e0777db08bf58dd7c82c07f78b794f96b62"
   },
   "source": [
    "To see further analysis of this data, take a look at [NLP gensim](https://github.com/gargimaheshwari/NLP-gensim)."
   ]
  }
 ],
 "metadata": {
  "kernelspec": {
   "display_name": "Python 3",
   "language": "python",
   "name": "python3"
  },
  "language_info": {
   "codemirror_mode": {
    "name": "ipython",
    "version": 3
   },
   "file_extension": ".py",
   "mimetype": "text/x-python",
   "name": "python",
   "nbconvert_exporter": "python",
   "pygments_lexer": "ipython3",
   "version": "3.6.6"
  }
 },
 "nbformat": 4,
 "nbformat_minor": 1
}
